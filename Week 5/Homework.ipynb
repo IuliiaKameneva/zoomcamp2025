{
 "cells": [
  {
   "cell_type": "markdown",
   "id": "7f3f5edd",
   "metadata": {},
   "source": [
    "### Question 1: Install Spark and PySpark\n",
    "- Install Spark\n",
    "- Run PySpark\n",
    "- Create a local spark session\n",
    "- Execute spark.version.\n",
    "- What's the output?"
   ]
  },
  {
   "cell_type": "code",
   "execution_count": 1,
   "id": "73a9b777",
   "metadata": {},
   "outputs": [],
   "source": [
    "import pyspark\n",
    "from pyspark.sql import SparkSession\n",
    "import os\n",
    "\n",
    "#     .config(\"spark.sql.warehouse.dir\", \"C:/Users/kamen/Documents/Data_Engineering_Course/my_tests/week_5\") \\\n",
    "spark = SparkSession.builder \\\n",
    "    .master(\"local[*]\") \\\n",
    "    .appName('test') \\\n",
    "    .getOrCreate()"
   ]
  },
  {
   "cell_type": "code",
   "execution_count": 2,
   "id": "78e81e22",
   "metadata": {},
   "outputs": [
    {
     "data": {
      "text/plain": [
       "'3.5.4'"
      ]
     },
     "execution_count": 2,
     "metadata": {},
     "output_type": "execute_result"
    }
   ],
   "source": [
    "# Question 1\n",
    "spark.version"
   ]
  },
  {
   "cell_type": "markdown",
   "id": "9e93ccdf",
   "metadata": {},
   "source": [
    "### Question 2: Yellow October 2024\n",
    "Read the October 2024 Yellow into a Spark Dataframe.\n",
    "\n",
    "Repartition the Dataframe to 4 partitions and save it to parquet.\n",
    "\n",
    "What is the average size of the Parquet (ending with .parquet extension) Files that were created (in MB)? Select the answer which most closely matches.\n",
    "\n",
    "- 6MB\n",
    "- 25MB\n",
    "- 75MB\n",
    "- 100MB"
   ]
  },
  {
   "cell_type": "code",
   "execution_count": 5,
   "id": "e536da9e",
   "metadata": {},
   "outputs": [],
   "source": [
    "os.makedirs(\"data_parquet\", exist_ok=True)"
   ]
  },
  {
   "cell_type": "code",
   "execution_count": 6,
   "id": "bef5bda7",
   "metadata": {
    "scrolled": true
   },
   "outputs": [
    {
     "name": "stderr",
     "output_type": "stream",
     "text": [
      "  % Total    % Received % Xferd  Average Speed   Time    Time     Time  Current\n",
      "                                 Dload  Upload   Total   Spent    Left  Speed\n",
      "\n",
      "  0     0    0     0    0     0      0      0 --:--:-- --:--:-- --:--:--     0\n",
      " 12 61.3M   12 8063k    0     0  17.1M      0  0:00:03 --:--:--  0:00:03 17.1M\n",
      " 71 61.3M   71 43.9M    0     0  30.1M      0  0:00:02  0:00:01  0:00:01 30.1M\n",
      "100 61.3M  100 61.3M    0     0  31.7M      0  0:00:01  0:00:01 --:--:-- 31.7M\n"
     ]
    }
   ],
   "source": [
    "!curl https://d37ci6vzurychx.cloudfront.net/trip-data/yellow_tripdata_2024-10.parquet -o data_parquet/yellow_tripdata_2024-10.parquet"
   ]
  },
  {
   "cell_type": "code",
   "execution_count": 7,
   "id": "cdf7c2ea",
   "metadata": {},
   "outputs": [
    {
     "name": "stdout",
     "output_type": "stream",
     "text": [
      "root\n",
      " |-- VendorID: integer (nullable = true)\n",
      " |-- tpep_pickup_datetime: timestamp_ntz (nullable = true)\n",
      " |-- tpep_dropoff_datetime: timestamp_ntz (nullable = true)\n",
      " |-- passenger_count: long (nullable = true)\n",
      " |-- trip_distance: double (nullable = true)\n",
      " |-- RatecodeID: long (nullable = true)\n",
      " |-- store_and_fwd_flag: string (nullable = true)\n",
      " |-- PULocationID: integer (nullable = true)\n",
      " |-- DOLocationID: integer (nullable = true)\n",
      " |-- payment_type: long (nullable = true)\n",
      " |-- fare_amount: double (nullable = true)\n",
      " |-- extra: double (nullable = true)\n",
      " |-- mta_tax: double (nullable = true)\n",
      " |-- tip_amount: double (nullable = true)\n",
      " |-- tolls_amount: double (nullable = true)\n",
      " |-- improvement_surcharge: double (nullable = true)\n",
      " |-- total_amount: double (nullable = true)\n",
      " |-- congestion_surcharge: double (nullable = true)\n",
      " |-- Airport_fee: double (nullable = true)\n",
      "\n"
     ]
    }
   ],
   "source": [
    "df = spark.read.parquet('data_parquet/')\n",
    "df.printSchema()"
   ]
  },
  {
   "cell_type": "code",
   "execution_count": 8,
   "id": "fd413d8e",
   "metadata": {},
   "outputs": [],
   "source": [
    "df = df.repartition(4)\n",
    "df.write.mode(\"overwrite\").parquet('data_parquet_output')"
   ]
  },
  {
   "cell_type": "code",
   "execution_count": 9,
   "id": "4722bd03",
   "metadata": {},
   "outputs": [
    {
     "name": "stdout",
     "output_type": "stream",
     "text": [
      "part-00000-61c497e7-e4a7-45db-88d0-f0e18496805d-c000.snappy.parquet: 22.386794090270996 MB\n",
      "part-00001-61c497e7-e4a7-45db-88d0-f0e18496805d-c000.snappy.parquet: 22.397467613220215 MB\n",
      "part-00002-61c497e7-e4a7-45db-88d0-f0e18496805d-c000.snappy.parquet: 22.38918972015381 MB\n",
      "part-00003-61c497e7-e4a7-45db-88d0-f0e18496805d-c000.snappy.parquet: 22.411956787109375 MB\n"
     ]
    }
   ],
   "source": [
    "# Question 2\n",
    "from pathlib import Path\n",
    "\n",
    "folder_path = Path(\"data_parquet_output\")  # Change this to your folder path\n",
    "\n",
    "for file in folder_path.iterdir():\n",
    "    if file.is_file() and file.name[-8:]=='.parquet':\n",
    "        print(f\"{file.name}: {file.stat().st_size/1024/1024} MB\")\n"
   ]
  },
  {
   "cell_type": "markdown",
   "id": "74e334d6",
   "metadata": {},
   "source": [
    "### Question 3: Count records\n",
    "How many taxi trips were there on the 15th of October?\n",
    "\n",
    "Consider only trips that started on the 15th of October.\n",
    "\n",
    "- 85,567\n",
    "- 105,567\n",
    "- 125,567\n",
    "- 145,567"
   ]
  },
  {
   "cell_type": "code",
   "execution_count": 10,
   "id": "31090d63",
   "metadata": {},
   "outputs": [
    {
     "data": {
      "text/plain": [
       "128893"
      ]
     },
     "execution_count": 10,
     "metadata": {},
     "output_type": "execute_result"
    }
   ],
   "source": [
    "# Question 3\n",
    "from pyspark.sql import functions as F\n",
    "\n",
    "df\\\n",
    ".filter(F.to_date(df.tpep_pickup_datetime) == '2024-10-15') \\\n",
    ".count()"
   ]
  },
  {
   "cell_type": "markdown",
   "id": "12d28aa4",
   "metadata": {},
   "source": [
    "### Question 4: Longest trip\n",
    "What is the length of the longest trip in the dataset in hours?\n",
    "\n",
    "- 122\n",
    "- 142\n",
    "- 162\n",
    "- 182"
   ]
  },
  {
   "cell_type": "code",
   "execution_count": 11,
   "id": "21f5df77",
   "metadata": {},
   "outputs": [],
   "source": [
    "from pyspark.sql import types"
   ]
  },
  {
   "cell_type": "code",
   "execution_count": 12,
   "id": "f66db3fa",
   "metadata": {},
   "outputs": [
    {
     "name": "stdout",
     "output_type": "stream",
     "text": [
      "+------------------+---------------------+--------------------+\n",
      "|             hours|tpep_dropoff_datetime|tpep_pickup_datetime|\n",
      "+------------------+---------------------+--------------------+\n",
      "|162.61777777777777|  2024-10-23 07:40:53| 2024-10-16 13:03:49|\n",
      "+------------------+---------------------+--------------------+\n",
      "\n"
     ]
    }
   ],
   "source": [
    "# Quesstion 4\n",
    "df \\\n",
    "    .withColumn('hours', (df.tpep_dropoff_datetime - df.tpep_pickup_datetime).cast(\"long\")/3600) \\\n",
    "    .select('hours', 'tpep_dropoff_datetime', 'tpep_pickup_datetime')\\\n",
    "    .orderBy('hours', ascending=False)\\\n",
    "    .limit(1)\\\n",
    "    .show()"
   ]
  },
  {
   "cell_type": "markdown",
   "id": "97b08d4c",
   "metadata": {},
   "source": [
    "### Question 5: User Interface\n",
    "Spark’s User Interface which shows the application's dashboard runs on which local port?\n",
    "\n",
    "- 80\n",
    "- 443\n",
    "- 4040\n",
    "- 8080"
   ]
  },
  {
   "cell_type": "markdown",
   "id": "5016183e",
   "metadata": {},
   "source": [
    "# Question 5\n",
    "![Alt Text](q5.png)\n"
   ]
  },
  {
   "cell_type": "markdown",
   "id": "ad4fed75",
   "metadata": {},
   "source": [
    "### Question 6: Least frequent pickup location zone\n",
    "Load the zone lookup data into a temp view in Spark:\n",
    "\n",
    "wget https://d37ci6vzurychx.cloudfront.net/misc/taxi_zone_lookup.csv\n",
    "Using the zone lookup data and the Yellow October 2024 data, what is the name of the LEAST frequent pickup location Zone?\n",
    "\n",
    "- Governor's Island/Ellis Island/Liberty Island\n",
    "- Arden Heights\n",
    "- Rikers Island\n",
    "- Jamaica Bay"
   ]
  },
  {
   "cell_type": "code",
   "execution_count": 13,
   "id": "a2fe188e",
   "metadata": {},
   "outputs": [],
   "source": [
    "folder_path = \"data_csv\"\n",
    "# Create folder if it doesn't exist\n",
    "os.makedirs(folder_path, exist_ok=True)"
   ]
  },
  {
   "cell_type": "code",
   "execution_count": 14,
   "id": "391bf548",
   "metadata": {},
   "outputs": [
    {
     "name": "stderr",
     "output_type": "stream",
     "text": [
      "  % Total    % Received % Xferd  Average Speed   Time    Time     Time  Current\n",
      "                                 Dload  Upload   Total   Spent    Left  Speed\n",
      "\n",
      "  0     0    0     0    0     0      0      0 --:--:-- --:--:-- --:--:--     0\n",
      "100 12331  100 12331    0     0  47742      0 --:--:-- --:--:-- --:--:-- 47980\n"
     ]
    }
   ],
   "source": [
    "! curl https://d37ci6vzurychx.cloudfront.net/misc/taxi_zone_lookup.csv -o data_csv/taxi_zone_lookup.csv"
   ]
  },
  {
   "cell_type": "code",
   "execution_count": 15,
   "id": "7a7f1178",
   "metadata": {},
   "outputs": [],
   "source": [
    "df_zones = spark.read \\\n",
    "    .option(\"header\", \"true\") \\\n",
    "    .csv('data_csv/taxi_zone_lookup.csv')"
   ]
  },
  {
   "cell_type": "code",
   "execution_count": 16,
   "id": "562fab2d",
   "metadata": {},
   "outputs": [
    {
     "name": "stdout",
     "output_type": "stream",
     "text": [
      "+----------+-------------+--------------------+------------+\n",
      "|LocationID|      Borough|                Zone|service_zone|\n",
      "+----------+-------------+--------------------+------------+\n",
      "|         1|          EWR|      Newark Airport|         EWR|\n",
      "|         2|       Queens|         Jamaica Bay|   Boro Zone|\n",
      "|         3|        Bronx|Allerton/Pelham G...|   Boro Zone|\n",
      "|         4|    Manhattan|       Alphabet City| Yellow Zone|\n",
      "|         5|Staten Island|       Arden Heights|   Boro Zone|\n",
      "|         6|Staten Island|Arrochar/Fort Wad...|   Boro Zone|\n",
      "|         7|       Queens|             Astoria|   Boro Zone|\n",
      "|         8|       Queens|        Astoria Park|   Boro Zone|\n",
      "|         9|       Queens|          Auburndale|   Boro Zone|\n",
      "|        10|       Queens|        Baisley Park|   Boro Zone|\n",
      "|        11|     Brooklyn|          Bath Beach|   Boro Zone|\n",
      "|        12|    Manhattan|        Battery Park| Yellow Zone|\n",
      "|        13|    Manhattan|   Battery Park City| Yellow Zone|\n",
      "|        14|     Brooklyn|           Bay Ridge|   Boro Zone|\n",
      "|        15|       Queens|Bay Terrace/Fort ...|   Boro Zone|\n",
      "|        16|       Queens|             Bayside|   Boro Zone|\n",
      "|        17|     Brooklyn|             Bedford|   Boro Zone|\n",
      "|        18|        Bronx|        Bedford Park|   Boro Zone|\n",
      "|        19|       Queens|           Bellerose|   Boro Zone|\n",
      "|        20|        Bronx|             Belmont|   Boro Zone|\n",
      "+----------+-------------+--------------------+------------+\n",
      "only showing top 20 rows\n",
      "\n"
     ]
    }
   ],
   "source": [
    "df_zones.show()"
   ]
  },
  {
   "cell_type": "code",
   "execution_count": 17,
   "id": "56cc157d",
   "metadata": {},
   "outputs": [],
   "source": [
    "df_result = df.join(df_zones, df.PULocationID == df_zones.LocationID)\n"
   ]
  },
  {
   "cell_type": "code",
   "execution_count": 18,
   "id": "24a2bfed",
   "metadata": {},
   "outputs": [
    {
     "name": "stdout",
     "output_type": "stream",
     "text": [
      "+--------------------+-----+\n",
      "|                Zone|count|\n",
      "+--------------------+-----+\n",
      "|Governor's Island...|    1|\n",
      "|       Rikers Island|    2|\n",
      "|       Arden Heights|    2|\n",
      "|         Jamaica Bay|    3|\n",
      "| Green-Wood Cemetery|    3|\n",
      "+--------------------+-----+\n",
      "\n"
     ]
    }
   ],
   "source": [
    "# Question 6\n",
    "df_result.groupBy('Zone').count().orderBy('count').limit(5).show()"
   ]
  },
  {
   "cell_type": "code",
   "execution_count": null,
   "id": "2b988593",
   "metadata": {},
   "outputs": [],
   "source": []
  },
  {
   "cell_type": "code",
   "execution_count": null,
   "id": "ea1afdff",
   "metadata": {},
   "outputs": [],
   "source": []
  }
 ],
 "metadata": {
  "kernelspec": {
   "display_name": "Python 3 (ipykernel)",
   "language": "python",
   "name": "python3"
  },
  "language_info": {
   "codemirror_mode": {
    "name": "ipython",
    "version": 3
   },
   "file_extension": ".py",
   "mimetype": "text/x-python",
   "name": "python",
   "nbconvert_exporter": "python",
   "pygments_lexer": "ipython3",
   "version": "3.9.13"
  }
 },
 "nbformat": 4,
 "nbformat_minor": 5
}
